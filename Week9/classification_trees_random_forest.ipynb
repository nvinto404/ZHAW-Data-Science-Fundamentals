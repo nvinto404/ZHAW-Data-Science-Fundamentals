{
 "cells": [
  {
   "cell_type": "markdown",
   "id": "f40d2887",
   "metadata": {},
   "source": [
    "# Classification Trees & Random Forest Classifier"
   ]
  },
  {
   "cell_type": "markdown",
   "id": "1b71a018",
   "metadata": {},
   "source": [
    "## Libraries and settings"
   ]
  },
  {
   "cell_type": "code",
   "execution_count": 1,
   "id": "66dc5534",
   "metadata": {},
   "outputs": [
    {
     "name": "stdout",
     "output_type": "stream",
     "text": [
      "/Users/natalievintonjak/Documents/GitHub/ZHAW-Data-Science-Fundamentals/Week9\n"
     ]
    }
   ],
   "source": [
    "# Libraries\n",
    "import os\n",
    "import numpy as np\n",
    "import pandas as pd\n",
    "import sklearn\n",
    "from sklearn import tree\n",
    "from sklearn import metrics\n",
    "import matplotlib.pyplot as plt\n",
    "from sklearn.datasets import make_classification\n",
    "from sklearn.tree import DecisionTreeClassifier\n",
    "from sklearn.ensemble import RandomForestClassifier\n",
    "from sklearn.model_selection import cross_val_score\n",
    "from sklearn.model_selection import train_test_split\n",
    "\n",
    "# Ignore warnings\n",
    "import warnings\n",
    "warnings.filterwarnings('ignore')\n",
    "\n",
    "# Show current working directory\n",
    "print(os.getcwd())"
   ]
  },
  {
   "cell_type": "markdown",
   "id": "d9c0ced7",
   "metadata": {},
   "source": [
    "## Import the apartment data"
   ]
  },
  {
   "cell_type": "code",
   "execution_count": 3,
   "id": "0abc23fc",
   "metadata": {},
   "outputs": [
    {
     "name": "stdout",
     "output_type": "stream",
     "text": [
      "(804, 17)\n"
     ]
    },
    {
     "data": {
      "text/html": [
       "<div>\n",
       "<style scoped>\n",
       "    .dataframe tbody tr th:only-of-type {\n",
       "        vertical-align: middle;\n",
       "    }\n",
       "\n",
       "    .dataframe tbody tr th {\n",
       "        vertical-align: top;\n",
       "    }\n",
       "\n",
       "    .dataframe thead th {\n",
       "        text-align: right;\n",
       "    }\n",
       "</style>\n",
       "<table border=\"1\" class=\"dataframe\">\n",
       "  <thead>\n",
       "    <tr style=\"text-align: right;\">\n",
       "      <th></th>\n",
       "      <th>id</th>\n",
       "      <th>address_raw</th>\n",
       "      <th>rooms</th>\n",
       "      <th>area</th>\n",
       "      <th>luxurious</th>\n",
       "      <th>price</th>\n",
       "      <th>price_per_m2</th>\n",
       "      <th>lat</th>\n",
       "      <th>lon</th>\n",
       "      <th>bfs_number</th>\n",
       "      <th>bfs_name</th>\n",
       "      <th>pop</th>\n",
       "      <th>pop_dens</th>\n",
       "      <th>frg_pct</th>\n",
       "      <th>emp</th>\n",
       "      <th>tax_income</th>\n",
       "      <th>dist_supermarket</th>\n",
       "    </tr>\n",
       "  </thead>\n",
       "  <tbody>\n",
       "    <tr>\n",
       "      <th>0</th>\n",
       "      <td>1662023695-433</td>\n",
       "      <td>Sunnenbergstrasse 15, 8633 Wolfhausen, ZH</td>\n",
       "      <td>3.5</td>\n",
       "      <td>122</td>\n",
       "      <td>1</td>\n",
       "      <td>3180</td>\n",
       "      <td>26.07</td>\n",
       "      <td>47.255714</td>\n",
       "      <td>8.804976</td>\n",
       "      <td>112</td>\n",
       "      <td>Bubikon</td>\n",
       "      <td>7344</td>\n",
       "      <td>632.558140</td>\n",
       "      <td>11.410675</td>\n",
       "      <td>3617.0</td>\n",
       "      <td>79385.90434</td>\n",
       "      <td>317.117916</td>\n",
       "    </tr>\n",
       "    <tr>\n",
       "      <th>1</th>\n",
       "      <td>1662023720-634</td>\n",
       "      <td>Blumenbergstrasse 7, 8633 Wolfhausen, ZH</td>\n",
       "      <td>4.0</td>\n",
       "      <td>87</td>\n",
       "      <td>0</td>\n",
       "      <td>1690</td>\n",
       "      <td>19.43</td>\n",
       "      <td>47.254879</td>\n",
       "      <td>8.793746</td>\n",
       "      <td>112</td>\n",
       "      <td>Bubikon</td>\n",
       "      <td>7344</td>\n",
       "      <td>632.558140</td>\n",
       "      <td>11.410675</td>\n",
       "      <td>3617.0</td>\n",
       "      <td>79385.90434</td>\n",
       "      <td>612.612674</td>\n",
       "    </tr>\n",
       "    <tr>\n",
       "      <th>2</th>\n",
       "      <td>1662023745-834</td>\n",
       "      <td>8608 Bubikon, ZH</td>\n",
       "      <td>3.5</td>\n",
       "      <td>92</td>\n",
       "      <td>0</td>\n",
       "      <td>2350</td>\n",
       "      <td>25.54</td>\n",
       "      <td>47.277386</td>\n",
       "      <td>8.800306</td>\n",
       "      <td>112</td>\n",
       "      <td>Bubikon</td>\n",
       "      <td>7344</td>\n",
       "      <td>632.558140</td>\n",
       "      <td>11.410675</td>\n",
       "      <td>3617.0</td>\n",
       "      <td>79385.90434</td>\n",
       "      <td>2269.090923</td>\n",
       "    </tr>\n",
       "    <tr>\n",
       "      <th>3</th>\n",
       "      <td>1662023701-503</td>\n",
       "      <td>8608 Bubikon, ZH</td>\n",
       "      <td>3.5</td>\n",
       "      <td>130</td>\n",
       "      <td>0</td>\n",
       "      <td>2500</td>\n",
       "      <td>19.23</td>\n",
       "      <td>47.277386</td>\n",
       "      <td>8.800306</td>\n",
       "      <td>112</td>\n",
       "      <td>Bubikon</td>\n",
       "      <td>7344</td>\n",
       "      <td>632.558140</td>\n",
       "      <td>11.410675</td>\n",
       "      <td>3617.0</td>\n",
       "      <td>79385.90434</td>\n",
       "      <td>2269.090923</td>\n",
       "    </tr>\n",
       "    <tr>\n",
       "      <th>4</th>\n",
       "      <td>1662023745-820</td>\n",
       "      <td>Lavaterstr. 63, 8002 Zürich, ZH</td>\n",
       "      <td>2.5</td>\n",
       "      <td>78</td>\n",
       "      <td>0</td>\n",
       "      <td>3760</td>\n",
       "      <td>48.21</td>\n",
       "      <td>47.361378</td>\n",
       "      <td>8.533339</td>\n",
       "      <td>261</td>\n",
       "      <td>Zürich</td>\n",
       "      <td>420217</td>\n",
       "      <td>4778.994655</td>\n",
       "      <td>32.458468</td>\n",
       "      <td>491193.0</td>\n",
       "      <td>82932.73770</td>\n",
       "      <td>349.937421</td>\n",
       "    </tr>\n",
       "  </tbody>\n",
       "</table>\n",
       "</div>"
      ],
      "text/plain": [
       "               id                                address_raw  rooms  area  \\\n",
       "0  1662023695-433  Sunnenbergstrasse 15, 8633 Wolfhausen, ZH    3.5   122   \n",
       "1  1662023720-634   Blumenbergstrasse 7, 8633 Wolfhausen, ZH    4.0    87   \n",
       "2  1662023745-834                           8608 Bubikon, ZH    3.5    92   \n",
       "3  1662023701-503                           8608 Bubikon, ZH    3.5   130   \n",
       "4  1662023745-820            Lavaterstr. 63, 8002 Zürich, ZH    2.5    78   \n",
       "\n",
       "   luxurious  price  price_per_m2        lat       lon  bfs_number bfs_name  \\\n",
       "0          1   3180         26.07  47.255714  8.804976         112  Bubikon   \n",
       "1          0   1690         19.43  47.254879  8.793746         112  Bubikon   \n",
       "2          0   2350         25.54  47.277386  8.800306         112  Bubikon   \n",
       "3          0   2500         19.23  47.277386  8.800306         112  Bubikon   \n",
       "4          0   3760         48.21  47.361378  8.533339         261   Zürich   \n",
       "\n",
       "      pop     pop_dens    frg_pct       emp   tax_income  dist_supermarket  \n",
       "0    7344   632.558140  11.410675    3617.0  79385.90434        317.117916  \n",
       "1    7344   632.558140  11.410675    3617.0  79385.90434        612.612674  \n",
       "2    7344   632.558140  11.410675    3617.0  79385.90434       2269.090923  \n",
       "3    7344   632.558140  11.410675    3617.0  79385.90434       2269.090923  \n",
       "4  420217  4778.994655  32.458468  491193.0  82932.73770        349.937421  "
      ]
     },
     "execution_count": 3,
     "metadata": {},
     "output_type": "execute_result"
    }
   ],
   "source": [
    "# Define columns for import\n",
    "columns = [ 'web-scraper-order',\n",
    "            'address_raw',\n",
    "            'rooms',\n",
    "            'area',\n",
    "            'luxurious',\n",
    "            'price',\n",
    "            'price_per_m2',\n",
    "            'lat',\n",
    "            'lon',\n",
    "            'bfs_number',\n",
    "            'bfs_name',\n",
    "            'pop',\n",
    "            'pop_dens',\n",
    "            'frg_pct',\n",
    "            'emp',\n",
    "            'tax_income',\n",
    "            'dist_supermarket']\n",
    "\n",
    "# Read and select variables\n",
    "df_orig = pd.read_csv(\"apartments_data_enriched.csv\", sep=\";\", encoding='utf-8')[columns]\n",
    "\n",
    "# Rename variable 'web-scraper-order' to 'id'\n",
    "df_orig = df_orig.rename(columns={'web-scraper-order': 'id'})\n",
    "\n",
    "# Remove missing values\n",
    "df = df_orig.dropna()\n",
    "df.head(5)\n",
    "\n",
    "# Remove duplicates\n",
    "df = df.drop_duplicates()\n",
    "\n",
    "# Remove some 'extreme' values\n",
    "df = df.loc[(df['price'] >= 1000) & \n",
    "            (df['price'] <= 5000)]\n",
    "\n",
    "print(df.shape)\n",
    "df.head(5)"
   ]
  },
  {
   "cell_type": "markdown",
   "id": "81d40342",
   "metadata": {},
   "source": [
    "## Create new variable 'price_per_m2_class'"
   ]
  },
  {
   "cell_type": "code",
   "execution_count": 6,
   "id": "d3213989",
   "metadata": {},
   "outputs": [
    {
     "data": {
      "text/html": [
       "<div>\n",
       "<style scoped>\n",
       "    .dataframe tbody tr th:only-of-type {\n",
       "        vertical-align: middle;\n",
       "    }\n",
       "\n",
       "    .dataframe tbody tr th {\n",
       "        vertical-align: top;\n",
       "    }\n",
       "\n",
       "    .dataframe thead th {\n",
       "        text-align: right;\n",
       "    }\n",
       "</style>\n",
       "<table border=\"1\" class=\"dataframe\">\n",
       "  <thead>\n",
       "    <tr style=\"text-align: right;\">\n",
       "      <th></th>\n",
       "      <th>price_per_m2</th>\n",
       "      <th>price_per_m2_class</th>\n",
       "    </tr>\n",
       "  </thead>\n",
       "  <tbody>\n",
       "    <tr>\n",
       "      <th>0</th>\n",
       "      <td>26.07</td>\n",
       "      <td>25 - 32</td>\n",
       "    </tr>\n",
       "    <tr>\n",
       "      <th>1</th>\n",
       "      <td>19.43</td>\n",
       "      <td>0 - 19</td>\n",
       "    </tr>\n",
       "    <tr>\n",
       "      <th>2</th>\n",
       "      <td>25.54</td>\n",
       "      <td>25 - 32</td>\n",
       "    </tr>\n",
       "    <tr>\n",
       "      <th>3</th>\n",
       "      <td>19.23</td>\n",
       "      <td>0 - 19</td>\n",
       "    </tr>\n",
       "    <tr>\n",
       "      <th>4</th>\n",
       "      <td>48.21</td>\n",
       "      <td>&gt;= 33</td>\n",
       "    </tr>\n",
       "    <tr>\n",
       "      <th>6</th>\n",
       "      <td>49.49</td>\n",
       "      <td>&gt;= 33</td>\n",
       "    </tr>\n",
       "    <tr>\n",
       "      <th>7</th>\n",
       "      <td>40.04</td>\n",
       "      <td>&gt;= 33</td>\n",
       "    </tr>\n",
       "    <tr>\n",
       "      <th>8</th>\n",
       "      <td>30.69</td>\n",
       "      <td>25 - 32</td>\n",
       "    </tr>\n",
       "    <tr>\n",
       "      <th>9</th>\n",
       "      <td>30.77</td>\n",
       "      <td>25 - 32</td>\n",
       "    </tr>\n",
       "    <tr>\n",
       "      <th>10</th>\n",
       "      <td>82.67</td>\n",
       "      <td>&gt;= 33</td>\n",
       "    </tr>\n",
       "  </tbody>\n",
       "</table>\n",
       "</div>"
      ],
      "text/plain": [
       "    price_per_m2 price_per_m2_class\n",
       "0          26.07            25 - 32\n",
       "1          19.43             0 - 19\n",
       "2          25.54            25 - 32\n",
       "3          19.23             0 - 19\n",
       "4          48.21              >= 33\n",
       "6          49.49              >= 33\n",
       "7          40.04              >= 33\n",
       "8          30.69            25 - 32\n",
       "9          30.77            25 - 32\n",
       "10         82.67              >= 33"
      ]
     },
     "execution_count": 6,
     "metadata": {},
     "output_type": "execute_result"
    }
   ],
   "source": [
    "# Create labels\n",
    "labels = ['0 - 19', '20 - 24', '25 - 32', '>= 33']\n",
    "\n",
    "# Create new categorical variable\n",
    "#creates a new categorical variable named \"price_per_m2_class\" based on the values in the 'price_per_m2' column of the DataFrame df. \n",
    "# This new categorical variable is generated by binning the values in the 'price_per_m2' column into specific ranges defined by the bins=[0, 20, 25, 33, 150]. \n",
    "# These bins define the boundaries for categorizing the values in the 'price_per_m2' column.\n",
    "# Values from 0 to less than 20 fall into the category '0 - 19'.\n",
    "# Values from 20 to less than 25 fall into the category '20 - 24'.\n",
    "# Values from 25 to less than 33 fall into the category '25 - 32'.\n",
    "# Values greater than or equal to 33 and up to 150 fall into the category '>= 33'.\n",
    "# In diesem spezifischen Beispiel werden die Werte der Spalte 'price_per_m2' in Kategorien eingeteilt. Die Verwendung der Zahl 150 in den Bins (bins=[0, 20, 25, 33, 150]) dient dazu, die Grenze für die letzte Kategorie festzulegen.\n",
    "df[\"price_per_m2_class\"] = pd.cut(df['price_per_m2'], bins=[0, 20, 25, 33, 150], labels=labels)\n",
    "\n",
    "# Check values\n",
    "# displays the first 10 rows of the DataFrame df showing the columns 'price_per_m2' and 'price_per_m2_class', \n",
    "# thereby displaying the original values in the 'price_per_m2' column alongside their corresponding categorical classifications determined by the specified bins and labels.\n",
    "df[['price_per_m2', 'price_per_m2_class']].head(10)"
   ]
  },
  {
   "cell_type": "markdown",
   "id": "912a7cad",
   "metadata": {},
   "source": [
    "## Classification Tree\n",
    "See also: https://scikit-learn.org/stable/modules/generated/sklearn.tree.DecisionTreeClassifier.html"
   ]
  },
  {
   "cell_type": "markdown",
   "id": "3d1c5831",
   "metadata": {},
   "source": [
    "### Create train and test samples (train = 80%, test = 20% of the data)"
   ]
  },
  {
   "cell_type": "code",
   "execution_count": 7,
   "id": "55aa142a",
   "metadata": {},
   "outputs": [
    {
     "name": "stdout",
     "output_type": "stream",
     "text": [
      "X_train:\n",
      "     area  rooms     pop_dens   tax_income  dist_supermarket\n",
      "362    75    3.5  1662.597326  70118.99692        595.010106\n",
      "369    90    3.5  1662.597326  70118.99692        157.537439\n",
      "496   100    3.5  1327.635328  80595.52826        147.967057\n",
      "349    94    3.5  1662.597326  70118.99692         52.959836\n",
      "308    94    3.5  1662.597326  70118.99692         65.909235 \n",
      "\n",
      "y_train:\n",
      "362    20 - 24\n",
      "369     0 - 19\n",
      "496     0 - 19\n",
      "349    25 - 32\n",
      "308    25 - 32\n",
      "Name: price_per_m2_class, dtype: category\n",
      "Categories (4, object): ['0 - 19' < '20 - 24' < '25 - 32' < '>= 33']\n"
     ]
    }
   ],
   "source": [
    "# Create train and test samples\n",
    "#Die Funktion erhält die Feature-Variablen (X) und die Zielvariable (y) als Argumente\n",
    "X_train, X_test, y_train, y_test = train_test_split(df[[\n",
    "                                                        ## Feature-Variablen (unabhängige Variablen)\n",
    "                                                        'area', \n",
    "                                                        'rooms',\n",
    "                                                        'pop_dens',\n",
    "                                                        'tax_income',\n",
    "                                                        'dist_supermarket']], \n",
    "                                                        # Zielvariable (abhängige Variable)\n",
    "                                                        df['price_per_m2_class'], \n",
    "                                                        ## Größe des Testsets (hier 20% des Gesamtdatensatzes)\n",
    "                                                        test_size=0.20, \n",
    "                                                        # Festlegen des Random Seeds für die Reproduzierbarkeit der Aufteilung\n",
    "                                                        random_state=42)\n",
    "\n",
    "# Show X_train\n",
    "print('X_train:')\n",
    "print(X_train.head(), '\\n')\n",
    "\n",
    "# Show y_train\n",
    "print('y_train:')\n",
    "print(y_train.head())\n",
    "\n",
    "#Die head()-Methode wird verwendet, um nur die ersten Zeilen der Daten anzuzeigen,\n",
    "#  um einen schnellen Überblick über die Struktur der Trainingsdaten und der Zielvariablen zu erhalten. "
   ]
  },
  {
   "cell_type": "markdown",
   "id": "93f65098",
   "metadata": {},
   "source": [
    "### Fit the classification tree model"
   ]
  },
  {
   "cell_type": "code",
   "execution_count": 8,
   "id": "23141c86",
   "metadata": {},
   "outputs": [],
   "source": [
    "# Create decision tree regressor object, nicht tiefer als 3 Ebenen\n",
    "clf = DecisionTreeClassifier(random_state=20, \n",
    "                             max_depth=3)\n",
    "\n",
    "# Train decision tree regressor\n",
    "#Das erstellte Classifier-Objekt (clf) wird mit den Trainingsdaten (X_train für die Features und y_train für die Zielvariablen) trainiert.\n",
    "#  Der Algorithmus passt die Entscheidungsregeln des Baumes an, um die Trainingsdaten bestmöglich zu modellieren.\n",
    "clf = clf.fit(X_train, y_train)\n",
    "\n",
    "# Predict the response for test dataset\n",
    "#Mit dem trainierten Modell (clf) werden Vorhersagen \n",
    "# für die unabhängigen Testdaten (X_test) gemacht, und diese Vorhersagen werden in der Variable y_pred gespeichert.\n",
    "y_pred = clf.predict(X_test)"
   ]
  },
  {
   "cell_type": "markdown",
   "id": "a104a81a",
   "metadata": {},
   "source": [
    "### Calculate accuracy"
   ]
  },
  {
   "cell_type": "code",
   "execution_count": 9,
   "id": "2214835a",
   "metadata": {},
   "outputs": [
    {
     "name": "stdout",
     "output_type": "stream",
     "text": [
      "Accuracy: 0.5155\n"
     ]
    }
   ],
   "source": [
    "# Calculate accuracy\n",
    "print(f'Accuracy: {metrics.accuracy_score(y_test, y_pred):.4f}')"
   ]
  },
  {
   "cell_type": "markdown",
   "id": "ff69e7be",
   "metadata": {},
   "source": [
    "### Cross validation"
   ]
  },
  {
   "cell_type": "code",
   "execution_count": 10,
   "id": "26f33723",
   "metadata": {},
   "outputs": [
    {
     "name": "stdout",
     "output_type": "stream",
     "text": [
      "[0.5455, 0.5312, 0.625, 0.5625, 0.5938] "
     ]
    }
   ],
   "source": [
    "# Cross-validation (5-fold)\n",
    "#Die Funktion cross_val_score führt eine k-fold Kreuzvalidierung durch. Sie verwendet den bereits trainierten Decision Tree Classifier clf, um die Genauigkeit des Modells auf den Testdaten (X_test und y_test) zu bewerten.\n",
    "# Der Parameter cv=5 gibt an, dass eine 5-fache Kreuzvalidierung durchgeführt werden soll, was bedeutet, dass der Datensatz in fünf Teile aufgeteilt wird und das Modell fünfmal trainiert und getestet wird,\n",
    "#Das Argument scoring='accuracy' gibt an, dass die Genauigkeit als Bewertungsmetrik für die Kreuzvalidierung verwendet wird\n",
    "cv = cross_val_score(clf, \n",
    "                     X_test, \n",
    "                     y_test, \n",
    "                     cv=5, \n",
    "                     scoring='accuracy')\n",
    "\n",
    "# Result\n",
    "#Das end=\" \" am Ende des print-Statements gibt an, dass nach dem Ausdrucken der Ergebnisse ein Leerzeichen hinzugefügt werden soll.\n",
    "print(list(cv.round(4)), end=\" \")"
   ]
  },
  {
   "cell_type": "markdown",
   "id": "2241dece",
   "metadata": {},
   "source": [
    "### Print text representation of the classification tree"
   ]
  },
  {
   "cell_type": "code",
   "execution_count": 11,
   "id": "0df6062b",
   "metadata": {},
   "outputs": [
    {
     "name": "stdout",
     "output_type": "stream",
     "text": [
      "|--- pop_dens <= 3215.98\n",
      "|   |--- area <= 59.50\n",
      "|   |   |--- area <= 44.50\n",
      "|   |   |   |--- class: >= 33\n",
      "|   |   |--- area >  44.50\n",
      "|   |   |   |--- class: 25 - 32\n",
      "|   |--- area >  59.50\n",
      "|   |   |--- area <= 97.50\n",
      "|   |   |   |--- class: 20 - 24\n",
      "|   |   |--- area >  97.50\n",
      "|   |   |   |--- class: 20 - 24\n",
      "|--- pop_dens >  3215.98\n",
      "|   |--- area <= 42.50\n",
      "|   |   |--- class: >= 33\n",
      "|   |--- area >  42.50\n",
      "|   |   |--- area <= 98.50\n",
      "|   |   |   |--- class: >= 33\n",
      "|   |   |--- area >  98.50\n",
      "|   |   |   |--- class: 25 - 32\n",
      "\n"
     ]
    }
   ],
   "source": [
    "# Text representation of the classification tree\n",
    "#Die Funktion export_text wird verwendet, um eine textbasierte Repräsentation des Entscheidungsbaums zu erstellen, \n",
    "#der durch den trainierten Classifier clf repräsentiert wird.\n",
    "#feature_names=list(X_train.columns) gibt an, dass die Namen der Features (unabhängigen Variablen), \n",
    "#die im Training verwendet wurden, verwendet werden sollen, um die Features im Entscheidungsbaum zu benennen.\n",
    "text_representation = tree.export_text(clf, \n",
    "                                       feature_names=list(X_train.columns),\n",
    "                                       max_depth=2)\n",
    "\n",
    "# Print text_representation\n",
    "print(text_representation)"
   ]
  },
  {
   "cell_type": "markdown",
   "id": "afec49c6",
   "metadata": {},
   "source": [
    "### Vizualizing the classification tree"
   ]
  },
  {
   "cell_type": "code",
   "execution_count": 12,
   "id": "e9267117",
   "metadata": {},
   "outputs": [
    {
     "data": {
      "image/png": "[encoded data removed]",
      "text/plain": [
       "<Figure size 900x600 with 1 Axes>"
      ]
     },
     "metadata": {},
     "output_type": "display_data"
    }
   ],
   "source": [
    "# For the meaning of numbers in each box, look at the root node\n",
    "#    This initializes a figure with a specific size (9 units in width and 6 units in height) to hold the decision tree plot.\n",
    "fig = plt.figure(figsize=(9,6))\n",
    "\n",
    "# Plot the \n",
    "#tree.plot_tree is a method to visualize the decision tree classifier (clf) using a tree-like structure.\n",
    "#feature_names=list(X_train.columns) specifies the names of the features to be displayed in the tree plot.\n",
    "#class_names=['0 - 19', '20 - 24', '25 - 32', '>= 33'] provides the class labels for the different categories ('0 - 19', '20 - 24', '25 - 32', '>= 33') used in classification.\n",
    "#filled=True fills the nodes with colors representing the majority class in that node.\n",
    "#fontsize=8 sets the font size of the text in the plot.\n",
    "#label='root' assigns the label 'root' to the root node of the tree.\n",
    "#precision=1 specifies the number of decimal places to be shown in floating-point numbers in the plot.\n",
    "tree_plot = tree.plot_tree(clf, \n",
    "                           feature_names=list(X_train.columns),  \n",
    "                           class_names=['0 - 19', '20 - 24', '25 - 32', '>= 33'],\n",
    "                           filled=True,\n",
    "                           fontsize=8,\n",
    "                           label='root',\n",
    "                           precision=1)"
   ]
  },
  {
   "cell_type": "markdown",
   "id": "60d6ed7c",
   "metadata": {},
   "source": [
    "## Random Forest Classifier\n",
    "For details see: https://scikit-learn.org/stable/modules/generated/sklearn.ensemble.RandomForestClassifier.html"
   ]
  },
  {
   "cell_type": "markdown",
   "id": "f565dc23",
   "metadata": {},
   "source": [
    "### Fit the Random Forest Classifier"
   ]
  },
  {
   "cell_type": "code",
   "execution_count": 13,
   "id": "6eb896c2",
   "metadata": {},
   "outputs": [
    {
     "name": "stdout",
     "output_type": "stream",
     "text": [
      "Accuracy: 0.5776\n"
     ]
    }
   ],
   "source": [
    "# make_classification is a function from Scikit-Learn used to generate synthetic classification datasets.\n",
    "    #n_features=4 specifies the number of features in the generated dataset.\n",
    "    #n_informative=2 indicates the number of informative features among the total features.\n",
    "    #random_state=5 and shuffle=False are parameters controlling the randomness and shuffling of the dataset.\n",
    "X, y = make_classification(n_features=4, n_informative=2,\n",
    "                           random_state=5, shuffle=False)\n",
    "\n",
    "#    RandomForestClassifier is used to create an instance of the Random Forest Classifier.\n",
    "    #n_estimators=500 specifies the number of trees in the forest.\n",
    "    #max_depth=10 sets the maximum depth of each tree in the forest.\n",
    "    #random_state=42 sets the random seed for reproducibility.\n",
    "    #The classifier (clf_rf) is trained using the fit function on the training data (X_train and y_train).\n",
    "\n",
    "clf_rf = RandomForestClassifier(n_estimators=500, \n",
    "                               max_depth=10, \n",
    "                               random_state=42)\n",
    "clf_rf.fit(X_train, y_train)\n",
    "\n",
    "# Predict the response for test dataset\n",
    "y_pred = clf_rf.predict(X_test)\n",
    "\n",
    "\n",
    "#metrics.accuracy_score is used to calculate the accuracy of the model's predictions by comparing predicted labels (y_pred) with the actual labels (y_test).\n",
    "#The calculated accuracy is then printed with a precision of 4 decimal places.\n",
    "print(f'Accuracy: {metrics.accuracy_score(y_test, y_pred):.4f}')"
   ]
  },
  {
   "cell_type": "markdown",
   "id": "888014a9",
   "metadata": {},
   "source": [
    "### Show feature importance"
   ]
  },
  {
   "cell_type": "code",
   "execution_count": 15,
   "id": "b51f4d42",
   "metadata": {},
   "outputs": [
    {
     "name": "stdout",
     "output_type": "stream",
     "text": [
      "Index(['area', 'pop_dens', 'dist_supermarket', 'tax_income', 'rooms'], dtype='object')\n",
      "[0.28686945 0.2277348  0.20321975 0.1414003  0.1407757 ]\n"
     ]
    },
    {
     "data": {
      "text/plain": [
       "<Axes: ylabel='features'>"
      ]
     },
     "execution_count": 15,
     "metadata": {},
     "output_type": "execute_result"
    },
    {
     "data": {
      "image/png": "[encoded data removed]",
      "text/plain": [
       "<Figure size 600x800 with 1 Axes>"
      ]
     },
     "metadata": {},
     "output_type": "display_data"
    }
   ],
   "source": [
    "cols = X_train.columns\n",
    "\n",
    "# Derive feature importance from random forest\n",
    "# clf_rf.feature_importances_ retrieves the feature importances computed by the Random Forest Classifier\n",
    "# np.std([tree.feature_importances_ for tree in clf_rf.estimators_], axis=0) calculates the standard deviation of feature importances across all trees in the forest (clf_rf.estimators_).\n",
    "# np.argsort(importances)[::-1] sorts the indices of feature importances in descending order, creating a ranking of feature importance indices.\n",
    "importances = clf_rf.feature_importances_\n",
    "std         = np.std([tree.feature_importances_ for tree in clf_rf.estimators_], axis=0)\n",
    "indices     = np.argsort(importances)[::-1]\n",
    "\n",
    "# cols[indices] prints the column names (features) in order of their importance.\n",
    "# importances[indices] prints the corresponding importance values for each feature, sorted by their importance.\n",
    "print( cols[indices] )\n",
    "print( importances[indices] )\n",
    "\n",
    "# Barplot with feature importance\n",
    "#The code creates a DataFrame (df_fi) containing feature names and their respective importances.\n",
    "# The DataFrame is then sorted based on the importances.\n",
    "# Finally, it generates a horizontal bar plot (kind='barh') displaying feature importances (y='importances') against feature names (x='features') using the 'darkred' color and a figure size of (6, 3).\n",
    "df_fi = pd.DataFrame({'features':cols,'importances': importances})\n",
    "df_fi.sort_values('importances', inplace=True)\n",
    "df_fi.plot(kind='barh', \n",
    "           y='importances', \n",
    "           x='features', \n",
    "           color='darkred', \n",
    "           figsize=(6,8))"
   ]
  }
 ],
 "metadata": {
  "kernelspec": {
   "display_name": "Python 3 (ipykernel)",
   "language": "python",
   "name": "python3"
  },
  "language_info": {
   "codemirror_mode": {
    "name": "ipython",
    "version": 3
   },
   "file_extension": ".py",
   "mimetype": "text/x-python",
   "name": "python",
   "nbconvert_exporter": "python",
   "pygments_lexer": "ipython3",
   "version": "3.9.6"
  }
 },
 "nbformat": 4,
 "nbformat_minor": 5
}
